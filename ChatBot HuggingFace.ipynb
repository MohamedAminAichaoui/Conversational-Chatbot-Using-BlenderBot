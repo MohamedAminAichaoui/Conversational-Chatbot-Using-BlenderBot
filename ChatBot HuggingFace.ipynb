{
  "nbformat": 4,
  "nbformat_minor": 0,
  "metadata": {
    "colab": {
      "provenance": []
    },
    "kernelspec": {
      "name": "python3",
      "display_name": "Python 3"
    },
    "language_info": {
      "name": "python"
    }
  },
  "cells": [
    {
      "cell_type": "code",
      "execution_count": null,
      "metadata": {
        "colab": {
          "base_uri": "https://localhost:8080/"
        },
        "id": "DgLcr-n3ZO6q",
        "outputId": "91a2aaf0-60ec-49e2-c02d-11aec9b3c1ee"
      },
      "outputs": [
        {
          "output_type": "stream",
          "name": "stdout",
          "text": [
            "Requirement already satisfied: transformers in /usr/local/lib/python3.10/dist-packages (4.44.2)\n",
            "Requirement already satisfied: filelock in /usr/local/lib/python3.10/dist-packages (from transformers) (3.16.1)\n",
            "Requirement already satisfied: huggingface-hub<1.0,>=0.23.2 in /usr/local/lib/python3.10/dist-packages (from transformers) (0.24.7)\n",
            "Requirement already satisfied: numpy>=1.17 in /usr/local/lib/python3.10/dist-packages (from transformers) (1.26.4)\n",
            "Requirement already satisfied: packaging>=20.0 in /usr/local/lib/python3.10/dist-packages (from transformers) (24.1)\n",
            "Requirement already satisfied: pyyaml>=5.1 in /usr/local/lib/python3.10/dist-packages (from transformers) (6.0.2)\n",
            "Requirement already satisfied: regex!=2019.12.17 in /usr/local/lib/python3.10/dist-packages (from transformers) (2024.9.11)\n",
            "Requirement already satisfied: requests in /usr/local/lib/python3.10/dist-packages (from transformers) (2.32.3)\n",
            "Requirement already satisfied: safetensors>=0.4.1 in /usr/local/lib/python3.10/dist-packages (from transformers) (0.4.5)\n",
            "Requirement already satisfied: tokenizers<0.20,>=0.19 in /usr/local/lib/python3.10/dist-packages (from transformers) (0.19.1)\n",
            "Requirement already satisfied: tqdm>=4.27 in /usr/local/lib/python3.10/dist-packages (from transformers) (4.66.6)\n",
            "Requirement already satisfied: fsspec>=2023.5.0 in /usr/local/lib/python3.10/dist-packages (from huggingface-hub<1.0,>=0.23.2->transformers) (2024.10.0)\n",
            "Requirement already satisfied: typing-extensions>=3.7.4.3 in /usr/local/lib/python3.10/dist-packages (from huggingface-hub<1.0,>=0.23.2->transformers) (4.12.2)\n",
            "Requirement already satisfied: charset-normalizer<4,>=2 in /usr/local/lib/python3.10/dist-packages (from requests->transformers) (3.4.0)\n",
            "Requirement already satisfied: idna<4,>=2.5 in /usr/local/lib/python3.10/dist-packages (from requests->transformers) (3.10)\n",
            "Requirement already satisfied: urllib3<3,>=1.21.1 in /usr/local/lib/python3.10/dist-packages (from requests->transformers) (2.2.3)\n",
            "Requirement already satisfied: certifi>=2017.4.17 in /usr/local/lib/python3.10/dist-packages (from requests->transformers) (2024.8.30)\n"
          ]
        }
      ],
      "source": [
        "!pip install transformers"
      ]
    },
    {
      "cell_type": "code",
      "source": [
        "from transformers import pipeline"
      ],
      "metadata": {
        "id": "Qq2xhGrRZQhM"
      },
      "execution_count": null,
      "outputs": []
    },
    {
      "cell_type": "code",
      "source": [
        "chatbot = pipeline(\"text2text-generation\", model=\"facebook/blenderbot-400M-distill\")"
      ],
      "metadata": {
        "id": "fREtdC5iZba7"
      },
      "execution_count": null,
      "outputs": []
    },
    {
      "cell_type": "code",
      "source": [
        "# User message\n",
        "user_message = \"What steps should I take to secure a good internship?\"\n",
        "\n",
        "# Generate a response from the chatbot\n",
        "response = chatbot(user_message)\n",
        "\n",
        "# Print the response\n",
        "print(response[0]['generated_text'])"
      ],
      "metadata": {
        "colab": {
          "base_uri": "https://localhost:8080/"
        },
        "id": "2lZ29QOJZhAL",
        "outputId": "2c4195f7-ad28-47d6-e27a-3fb68cf86d6f"
      },
      "execution_count": null,
      "outputs": [
        {
          "output_type": "stream",
          "name": "stdout",
          "text": [
            " Internships are hard to come by these days.  You have to find a good company that will hire you.\n"
          ]
        }
      ]
    },
    {
      "cell_type": "code",
      "source": [
        "conversation_history = []\n",
        "\n",
        "def add_message_and_respond(history, new_message):\n",
        "    # Add the new message to the conversation history\n",
        "    history.append({\"role\": \"user\", \"content\": new_message})\n",
        "\n",
        "    # Combine all previous messages for context\n",
        "    full_conversation = \" \".join([msg[\"content\"] for msg in history])\n",
        "\n",
        "    # Get a response considering the full conversation\n",
        "    response = chatbot(full_conversation)\n",
        "\n",
        "    # Add bot's response to the history\n",
        "    history.append({\"role\": \"bot\", \"content\": response[0]['generated_text']})\n",
        "\n",
        "    return response[0]['generated_text']"
      ],
      "metadata": {
        "id": "hAkPGW7IZsit"
      },
      "execution_count": 49,
      "outputs": []
    },
    {
      "cell_type": "code",
      "source": [
        "# Start the conversation\n",
        "initial_message = \"What steps should I take to secure a good internship?\"\n",
        "response = add_message_and_respond(conversation_history, initial_message)\n",
        "print(\"Bot:\", response)"
      ],
      "metadata": {
        "colab": {
          "base_uri": "https://localhost:8080/"
        },
        "id": "qXW5ikhZbQKR",
        "outputId": "fc8e409c-d07b-4800-eea7-95041831dc36"
      },
      "execution_count": null,
      "outputs": [
        {
          "output_type": "stream",
          "name": "stdout",
          "text": [
            "Bot:  Internships vary widely in terms of skill and experience, so it depends on what kind of internship you are looking for.\n"
          ]
        }
      ]
    },
    {
      "cell_type": "code",
      "source": [
        "follow_up_message = \"How to improve my skills in Data Science and AI ?\"\n",
        "response = add_message_and_respond(conversation_history, follow_up_message)\n",
        "print(\"Bot:\", response)"
      ],
      "metadata": {
        "colab": {
          "base_uri": "https://localhost:8080/"
        },
        "id": "JxywlF5FbVcf",
        "outputId": "41e152af-fcc2-4906-ca4b-22c37f96ec8f"
      },
      "execution_count": null,
      "outputs": [
        {
          "output_type": "stream",
          "name": "stdout",
          "text": [
            "Bot:  I'm not sure how to improve your skills, but I do know that Data Sciences is a branch of mathematics.\n"
          ]
        }
      ]
    },
    {
      "cell_type": "code",
      "source": [
        "# Continue the conversation\n",
        "follow_up_message = \"Do you recommend certain book about machine learning?\"\n",
        "response = add_message_and_respond(conversation_history, follow_up_message)\n",
        "print(\"Bot:\", response)"
      ],
      "metadata": {
        "colab": {
          "base_uri": "https://localhost:8080/"
        },
        "id": "WwQX-QE_bd1g",
        "outputId": "ac84e528-a8fe-40c3-d582-93d2aea00b64"
      },
      "execution_count": null,
      "outputs": [
        {
          "output_type": "stream",
          "name": "stdout",
          "text": [
            "Bot:  I don't have a specific book in particular, but there are tons of resources online. You can even learn how to program your own personal computer.\n"
          ]
        }
      ]
    },
    {
      "cell_type": "code",
      "source": [
        "# Continue the conversation\n",
        "follow_up_message = \"Where is London?\"\n",
        "response = add_message_and_respond(conversation_history, follow_up_message)\n",
        "print(\"Bot:\", response)"
      ],
      "metadata": {
        "id": "g4KUDTyzbtAQ",
        "colab": {
          "base_uri": "https://localhost:8080/"
        },
        "outputId": "c187113e-70cc-44fb-860a-9e4e25734d95"
      },
      "execution_count": 50,
      "outputs": [
        {
          "output_type": "stream",
          "name": "stdout",
          "text": [
            "Bot:  London is the capital and most populous city of England and the United Kingdom. \n"
          ]
        }
      ]
    },
    {
      "cell_type": "code",
      "source": [
        "def save_to_file(history, filename='chat_history.txt'):\n",
        "    #Save the conversation history to a file#\n",
        "    with open(filename, 'a') as file:  # Open the file in append mode\n",
        "        for message in history:\n",
        "            file.write(f\"{message['role'].capitalize()}: {message['content']}\\n\")\n",
        "        file.write(\"\\n\")\n"
      ],
      "metadata": {
        "id": "JDOicyVLh_AX"
      },
      "execution_count": 53,
      "outputs": []
    },
    {
      "cell_type": "code",
      "source": [
        "save_to_file(conversation_history)  # Save to file\n"
      ],
      "metadata": {
        "id": "ceFUYHTGjcie"
      },
      "execution_count": 54,
      "outputs": []
    },
    {
      "cell_type": "code",
      "source": [],
      "metadata": {
        "id": "G6mcL_XVjeKG"
      },
      "execution_count": null,
      "outputs": []
    }
  ]
}